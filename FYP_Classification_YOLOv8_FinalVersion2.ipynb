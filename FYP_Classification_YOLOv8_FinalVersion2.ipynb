{
  "nbformat": 4,
  "nbformat_minor": 0,
  "metadata": {
    "colab": {
      "provenance": [],
      "gpuType": "T4",
      "include_colab_link": true
    },
    "kernelspec": {
      "name": "python3",
      "display_name": "Python 3"
    },
    "language_info": {
      "name": "python"
    },
    "accelerator": "GPU"
  },
  "cells": [
    {
      "cell_type": "markdown",
      "metadata": {
        "id": "view-in-github",
        "colab_type": "text"
      },
      "source": [
        "<a href=\"https://colab.research.google.com/github/Fasih14/Classification-using-YOLOv8/blob/master/FYP_Classification_YOLOv8_FinalVersion2.ipynb\" target=\"_parent\"><img src=\"https://colab.research.google.com/assets/colab-badge.svg\" alt=\"Open In Colab\"/></a>"
      ]
    },
    {
      "cell_type": "code",
      "execution_count": null,
      "metadata": {
        "colab": {
          "base_uri": "https://localhost:8080/"
        },
        "id": "xwUP0s7eKKky",
        "outputId": "92af8092-e7b9-4e5f-8047-0873c251f462"
      },
      "outputs": [
        {
          "output_type": "stream",
          "name": "stdout",
          "text": [
            "Requirement already satisfied: numpy in /usr/local/lib/python3.10/dist-packages (1.23.5)\n",
            "Collecting numpy\n",
            "  Downloading numpy-1.26.3-cp310-cp310-manylinux_2_17_x86_64.manylinux2014_x86_64.whl (18.2 MB)\n",
            "\u001b[2K     \u001b[90m━━━━━━━━━━━━━━━━━━━━━━━━━━━━━━━━━━━━━━━━\u001b[0m \u001b[32m18.2/18.2 MB\u001b[0m \u001b[31m43.8 MB/s\u001b[0m eta \u001b[36m0:00:00\u001b[0m\n",
            "\u001b[?25hInstalling collected packages: numpy\n",
            "  Attempting uninstall: numpy\n",
            "    Found existing installation: numpy 1.23.5\n",
            "    Uninstalling numpy-1.23.5:\n",
            "      Successfully uninstalled numpy-1.23.5\n",
            "\u001b[31mERROR: pip's dependency resolver does not currently take into account all the packages that are installed. This behaviour is the source of the following dependency conflicts.\n",
            "lida 0.0.10 requires fastapi, which is not installed.\n",
            "lida 0.0.10 requires kaleido, which is not installed.\n",
            "lida 0.0.10 requires python-multipart, which is not installed.\n",
            "lida 0.0.10 requires uvicorn, which is not installed.\u001b[0m\u001b[31m\n",
            "\u001b[0mSuccessfully installed numpy-1.26.3\n"
          ]
        }
      ],
      "source": [
        "!pip install --upgrade numpy"
      ]
    },
    {
      "cell_type": "code",
      "source": [
        "!pip install ultralytics==8.0.58 roboflow numpy==1.24.2"
      ],
      "metadata": {
        "colab": {
          "base_uri": "https://localhost:8080/"
        },
        "id": "1hszgP_7KWup",
        "outputId": "f28f3ca1-d469-47cb-c1be-647092a3db30"
      },
      "execution_count": null,
      "outputs": [
        {
          "output_type": "stream",
          "name": "stdout",
          "text": [
            "Requirement already satisfied: ultralytics==8.0.58 in /usr/local/lib/python3.10/dist-packages (8.0.58)\n",
            "Requirement already satisfied: roboflow in /usr/local/lib/python3.10/dist-packages (1.1.16)\n",
            "Requirement already satisfied: numpy==1.24.2 in /usr/local/lib/python3.10/dist-packages (1.24.2)\n",
            "Requirement already satisfied: matplotlib>=3.2.2 in /usr/local/lib/python3.10/dist-packages (from ultralytics==8.0.58) (3.7.1)\n",
            "Requirement already satisfied: opencv-python>=4.6.0 in /usr/local/lib/python3.10/dist-packages (from ultralytics==8.0.58) (4.8.0.76)\n",
            "Requirement already satisfied: Pillow>=7.1.2 in /usr/local/lib/python3.10/dist-packages (from ultralytics==8.0.58) (9.4.0)\n",
            "Requirement already satisfied: PyYAML>=5.3.1 in /usr/local/lib/python3.10/dist-packages (from ultralytics==8.0.58) (6.0.1)\n",
            "Requirement already satisfied: requests>=2.23.0 in /usr/local/lib/python3.10/dist-packages (from ultralytics==8.0.58) (2.31.0)\n",
            "Requirement already satisfied: scipy>=1.4.1 in /usr/local/lib/python3.10/dist-packages (from ultralytics==8.0.58) (1.11.4)\n",
            "Requirement already satisfied: torch>=1.7.0 in /usr/local/lib/python3.10/dist-packages (from ultralytics==8.0.58) (2.1.0+cu121)\n",
            "Requirement already satisfied: torchvision>=0.8.1 in /usr/local/lib/python3.10/dist-packages (from ultralytics==8.0.58) (0.16.0+cu121)\n",
            "Requirement already satisfied: tqdm>=4.64.0 in /usr/local/lib/python3.10/dist-packages (from ultralytics==8.0.58) (4.66.1)\n",
            "Requirement already satisfied: pandas>=1.1.4 in /usr/local/lib/python3.10/dist-packages (from ultralytics==8.0.58) (1.5.3)\n",
            "Requirement already satisfied: seaborn>=0.11.0 in /usr/local/lib/python3.10/dist-packages (from ultralytics==8.0.58) (0.12.2)\n",
            "Requirement already satisfied: psutil in /usr/local/lib/python3.10/dist-packages (from ultralytics==8.0.58) (5.9.5)\n",
            "Requirement already satisfied: thop>=0.1.1 in /usr/local/lib/python3.10/dist-packages (from ultralytics==8.0.58) (0.1.1.post2209072238)\n",
            "Requirement already satisfied: sentry-sdk in /usr/local/lib/python3.10/dist-packages (from ultralytics==8.0.58) (1.39.1)\n",
            "Requirement already satisfied: certifi==2023.7.22 in /usr/local/lib/python3.10/dist-packages (from roboflow) (2023.7.22)\n",
            "Requirement already satisfied: chardet==4.0.0 in /usr/local/lib/python3.10/dist-packages (from roboflow) (4.0.0)\n",
            "Requirement already satisfied: cycler==0.10.0 in /usr/local/lib/python3.10/dist-packages (from roboflow) (0.10.0)\n",
            "Requirement already satisfied: idna==2.10 in /usr/local/lib/python3.10/dist-packages (from roboflow) (2.10)\n",
            "Requirement already satisfied: kiwisolver>=1.3.1 in /usr/local/lib/python3.10/dist-packages (from roboflow) (1.4.5)\n",
            "Requirement already satisfied: opencv-python-headless==4.8.0.74 in /usr/local/lib/python3.10/dist-packages (from roboflow) (4.8.0.74)\n",
            "Requirement already satisfied: python-dateutil in /usr/local/lib/python3.10/dist-packages (from roboflow) (2.8.2)\n",
            "Requirement already satisfied: python-dotenv in /usr/local/lib/python3.10/dist-packages (from roboflow) (1.0.0)\n",
            "Requirement already satisfied: six in /usr/local/lib/python3.10/dist-packages (from roboflow) (1.16.0)\n",
            "Requirement already satisfied: supervision in /usr/local/lib/python3.10/dist-packages (from roboflow) (0.17.1)\n",
            "Requirement already satisfied: urllib3>=1.26.6 in /usr/local/lib/python3.10/dist-packages (from roboflow) (2.0.7)\n",
            "Requirement already satisfied: requests-toolbelt in /usr/local/lib/python3.10/dist-packages (from roboflow) (1.0.0)\n",
            "Requirement already satisfied: python-magic in /usr/local/lib/python3.10/dist-packages (from roboflow) (0.4.27)\n",
            "Requirement already satisfied: contourpy>=1.0.1 in /usr/local/lib/python3.10/dist-packages (from matplotlib>=3.2.2->ultralytics==8.0.58) (1.2.0)\n",
            "Requirement already satisfied: fonttools>=4.22.0 in /usr/local/lib/python3.10/dist-packages (from matplotlib>=3.2.2->ultralytics==8.0.58) (4.47.0)\n",
            "Requirement already satisfied: packaging>=20.0 in /usr/local/lib/python3.10/dist-packages (from matplotlib>=3.2.2->ultralytics==8.0.58) (23.2)\n",
            "Requirement already satisfied: pyparsing>=2.3.1 in /usr/local/lib/python3.10/dist-packages (from matplotlib>=3.2.2->ultralytics==8.0.58) (3.1.1)\n",
            "Requirement already satisfied: pytz>=2020.1 in /usr/local/lib/python3.10/dist-packages (from pandas>=1.1.4->ultralytics==8.0.58) (2023.3.post1)\n",
            "Requirement already satisfied: charset-normalizer<4,>=2 in /usr/local/lib/python3.10/dist-packages (from requests>=2.23.0->ultralytics==8.0.58) (3.3.2)\n",
            "Requirement already satisfied: filelock in /usr/local/lib/python3.10/dist-packages (from torch>=1.7.0->ultralytics==8.0.58) (3.13.1)\n",
            "Requirement already satisfied: typing-extensions in /usr/local/lib/python3.10/dist-packages (from torch>=1.7.0->ultralytics==8.0.58) (4.5.0)\n",
            "Requirement already satisfied: sympy in /usr/local/lib/python3.10/dist-packages (from torch>=1.7.0->ultralytics==8.0.58) (1.12)\n",
            "Requirement already satisfied: networkx in /usr/local/lib/python3.10/dist-packages (from torch>=1.7.0->ultralytics==8.0.58) (3.2.1)\n",
            "Requirement already satisfied: jinja2 in /usr/local/lib/python3.10/dist-packages (from torch>=1.7.0->ultralytics==8.0.58) (3.1.2)\n",
            "Requirement already satisfied: fsspec in /usr/local/lib/python3.10/dist-packages (from torch>=1.7.0->ultralytics==8.0.58) (2023.6.0)\n",
            "Requirement already satisfied: triton==2.1.0 in /usr/local/lib/python3.10/dist-packages (from torch>=1.7.0->ultralytics==8.0.58) (2.1.0)\n",
            "Requirement already satisfied: MarkupSafe>=2.0 in /usr/local/lib/python3.10/dist-packages (from jinja2->torch>=1.7.0->ultralytics==8.0.58) (2.1.3)\n",
            "Requirement already satisfied: mpmath>=0.19 in /usr/local/lib/python3.10/dist-packages (from sympy->torch>=1.7.0->ultralytics==8.0.58) (1.3.0)\n"
          ]
        }
      ]
    },
    {
      "cell_type": "code",
      "source": [
        "from ultralytics import YOLO"
      ],
      "metadata": {
        "id": "YQFk0Cp9KftD"
      },
      "execution_count": null,
      "outputs": []
    },
    {
      "cell_type": "code",
      "source": [
        "from roboflow import Roboflow\n",
        "\n",
        "rf = Roboflow(api_key=\"IQvatkNRXznwL0ACWebg\")\n",
        "\n",
        "project = rf.workspace(\"pixelcuisine\").project(\"fyp-ipymh\")\n",
        "dataset = project.version(3).download(\"folder\")"
      ],
      "metadata": {
        "colab": {
          "base_uri": "https://localhost:8080/"
        },
        "id": "SrawIcvoKfp1",
        "outputId": "21eec999-6339-4d50-bba0-14297ab3a5e5"
      },
      "execution_count": null,
      "outputs": [
        {
          "output_type": "stream",
          "name": "stdout",
          "text": [
            "loading Roboflow workspace...\n",
            "loading Roboflow project...\n"
          ]
        },
        {
          "output_type": "stream",
          "name": "stderr",
          "text": [
            "Downloading Dataset Version Zip in FYP-3 to folder:: 100%|██████████| 590659/590659 [00:16<00:00, 36397.61it/s]"
          ]
        },
        {
          "output_type": "stream",
          "name": "stdout",
          "text": [
            "\n"
          ]
        },
        {
          "output_type": "stream",
          "name": "stderr",
          "text": [
            "\n",
            "Extracting Dataset Version Zip to FYP-3 in folder:: 100%|██████████| 12281/12281 [00:03<00:00, 3734.87it/s]\n"
          ]
        }
      ]
    },
    {
      "cell_type": "code",
      "source": [
        "model = YOLO('yolov8x-cls.pt')"
      ],
      "metadata": {
        "id": "IbyqaGxUKfma",
        "colab": {
          "base_uri": "https://localhost:8080/"
        },
        "outputId": "e70e9602-2c7c-4381-94ee-362497cd606d"
      },
      "execution_count": null,
      "outputs": [
        {
          "output_type": "stream",
          "name": "stderr",
          "text": [
            "Downloading https://github.com/ultralytics/assets/releases/download/v0.0.0/yolov8x-cls.pt to yolov8x-cls.pt...\n",
            "100%|██████████| 110M/110M [00:00<00:00, 324MB/s] \n"
          ]
        }
      ]
    },
    {
      "cell_type": "code",
      "source": [
        "from ultralytics import YOLO\n",
        "model_path = 'yolov8x-cls.pt'  # @param {type:\"string\"}\n",
        "data_path = '/content/FYP-3'  # @param {type:\"string\"}\n",
        "epochs = 70  # @param {type:\"integer\"}\n",
        "img_size = 640  # @param {type:\"integer\"}\n",
        "amp = False # @param {type:\"boolean\"}\n",
        "cache = True # @param {type:\"boolean\"}\n",
        "patience = 20 # @param {type:\"integer\"}\n",
        "# Create YOLO model and train\n",
        "model = YOLO(model_path)\n",
        "model.train(data=data_path, epochs=epochs, imgsz=img_size, amp = amp, cache = cache, patience=patience)"
      ],
      "metadata": {
        "colab": {
          "base_uri": "https://localhost:8080/"
        },
        "id": "vqAS_EbGec1D",
        "outputId": "fdfefb89-9005-4901-9a8f-880cd3d99f38"
      },
      "execution_count": null,
      "outputs": [
        {
          "output_type": "stream",
          "name": "stderr",
          "text": [
            "New https://pypi.org/project/ultralytics/8.0.238 available 😃 Update with 'pip install -U ultralytics'\n",
            "Ultralytics YOLOv8.0.58 🚀 Python-3.10.12 torch-2.1.0+cu121 CUDA:0 (Tesla T4, 15102MiB)\n",
            "\u001b[34m\u001b[1myolo/engine/trainer: \u001b[0mtask=classify, mode=train, model=yolov8x-cls.pt, data=/content/FYP-3, epochs=70, patience=20, batch=16, imgsz=640, save=True, save_period=-1, cache=True, device=None, workers=8, project=None, name=None, exist_ok=False, pretrained=False, optimizer=SGD, verbose=True, seed=0, deterministic=True, single_cls=False, image_weights=False, rect=False, cos_lr=False, close_mosaic=10, resume=False, amp=False, overlap_mask=True, mask_ratio=4, dropout=0.0, val=True, split=val, save_json=False, save_hybrid=False, conf=None, iou=0.7, max_det=300, half=False, dnn=False, plots=True, source=None, show=False, save_txt=False, save_conf=False, save_crop=False, hide_labels=False, hide_conf=False, vid_stride=1, line_thickness=3, visualize=False, augment=False, agnostic_nms=False, classes=None, retina_masks=False, boxes=True, format=torchscript, keras=False, optimize=False, int8=False, dynamic=False, simplify=False, opset=None, workspace=4, nms=False, lr0=0.01, lrf=0.01, momentum=0.937, weight_decay=0.0005, warmup_epochs=3.0, warmup_momentum=0.8, warmup_bias_lr=0.1, box=7.5, cls=0.5, dfl=1.5, fl_gamma=0.0, label_smoothing=0.0, nbs=64, hsv_h=0.015, hsv_s=0.7, hsv_v=0.4, degrees=0.0, translate=0.1, scale=0.5, shear=0.0, perspective=0.0, flipud=0.0, fliplr=0.5, mosaic=1.0, mixup=0.0, copy_paste=0.0, cfg=None, v5loader=False, tracker=botsort.yaml, save_dir=runs/classify/train\n",
            "Overriding model.yaml nc=1000 with nc=54\n",
            "\n",
            "                   from  n    params  module                                       arguments                     \n",
            "  0                  -1  1      2320  ultralytics.nn.modules.Conv                  [3, 80, 3, 2]                 \n",
            "  1                  -1  1    115520  ultralytics.nn.modules.Conv                  [80, 160, 3, 2]               \n",
            "  2                  -1  3    436800  ultralytics.nn.modules.C2f                   [160, 160, 3, True]           \n",
            "  3                  -1  1    461440  ultralytics.nn.modules.Conv                  [160, 320, 3, 2]              \n",
            "  4                  -1  6   3281920  ultralytics.nn.modules.C2f                   [320, 320, 6, True]           \n",
            "  5                  -1  1   1844480  ultralytics.nn.modules.Conv                  [320, 640, 3, 2]              \n",
            "  6                  -1  6  13117440  ultralytics.nn.modules.C2f                   [640, 640, 6, True]           \n",
            "  7                  -1  1   7375360  ultralytics.nn.modules.Conv                  [640, 1280, 3, 2]             \n",
            "  8                  -1  3  27865600  ultralytics.nn.modules.C2f                   [1280, 1280, 3, True]         \n",
            "  9                  -1  1   1710134  ultralytics.nn.modules.Classify              [1280, 54]                    \n",
            "YOLOv8x-cls summary: 183 layers, 56211014 parameters, 56211014 gradients, 154.4 GFLOPs\n",
            "Transferred 300/302 items from pretrained weights\n",
            "\u001b[34m\u001b[1mTensorBoard: \u001b[0mStart with 'tensorboard --logdir runs/classify/train', view at http://localhost:6006/\n",
            "\u001b[34m\u001b[1moptimizer:\u001b[0m SGD(lr=0.01) with parameter groups 50 weight(decay=0.0), 51 weight(decay=0.0005), 51 bias\n",
            "\u001b[34m\u001b[1malbumentations: \u001b[0mRandomResizedCrop(p=1.0, height=224, width=224, scale=(0.08, 1.0), ratio=(0.75, 1.3333333333333333), interpolation=1), HorizontalFlip(p=0.5), ColorJitter(p=0.5, brightness=[0.6, 1.4], contrast=[0.6, 1.4], saturation=[0.6, 1.4], hue=[0, 0]), Normalize(p=1.0, mean=(0.0, 0.0, 0.0), std=(1.0, 1.0, 1.0), max_pixel_value=255.0), ToTensorV2(always_apply=True, p=1.0, transpose_mask=False)\n",
            "Image sizes 224 train, 224 val\n",
            "Using 2 dataloader workers\n",
            "Logging results to \u001b[1mruns/classify/train\u001b[0m\n",
            "Starting training for 70 epochs...\n",
            "\n",
            "      Epoch    GPU_mem       loss  Instances       Size\n",
            "       1/70      3.26G     0.8982          3        224: 100%|██████████| 703/703 [03:23<00:00,  3.45it/s]\n",
            "               classes   top1_acc   top5_acc: 100%|██████████| 15/15 [00:04<00:00,  3.19it/s]\n",
            "                   all       0.19      0.546\n",
            "\n",
            "      Epoch    GPU_mem       loss  Instances       Size\n",
            "       2/70      3.26G     0.7287          3        224: 100%|██████████| 703/703 [03:18<00:00,  3.54it/s]\n",
            "               classes   top1_acc   top5_acc: 100%|██████████| 15/15 [00:03<00:00,  3.77it/s]\n",
            "                   all      0.263      0.667\n",
            "\n",
            "      Epoch    GPU_mem       loss  Instances       Size\n",
            "       3/70      3.26G     0.6875          3        224: 100%|██████████| 703/703 [03:16<00:00,  3.58it/s]\n",
            "               classes   top1_acc   top5_acc: 100%|██████████| 15/15 [00:05<00:00,  2.82it/s]\n",
            "                   all      0.293       0.67\n",
            "\n",
            "      Epoch    GPU_mem       loss  Instances       Size\n",
            "       4/70      3.27G     0.6495          3        224: 100%|██████████| 703/703 [03:15<00:00,  3.59it/s]\n",
            "               classes   top1_acc   top5_acc: 100%|██████████| 15/15 [00:03<00:00,  3.92it/s]\n",
            "                   all       0.31      0.737\n",
            "\n",
            "      Epoch    GPU_mem       loss  Instances       Size\n",
            "       5/70      3.27G      0.596          3        224: 100%|██████████| 703/703 [03:15<00:00,  3.59it/s]\n",
            "               classes   top1_acc   top5_acc: 100%|██████████| 15/15 [00:04<00:00,  3.32it/s]\n",
            "                   all      0.359      0.761\n",
            "\n",
            "      Epoch    GPU_mem       loss  Instances       Size\n",
            "       6/70      3.27G     0.5626          3        224: 100%|██████████| 703/703 [03:15<00:00,  3.59it/s]\n",
            "               classes   top1_acc   top5_acc: 100%|██████████| 15/15 [00:04<00:00,  3.72it/s]\n",
            "                   all      0.359      0.776\n",
            "\n",
            "      Epoch    GPU_mem       loss  Instances       Size\n",
            "       7/70      3.27G     0.5295          3        224: 100%|██████████| 703/703 [03:15<00:00,  3.59it/s]\n",
            "               classes   top1_acc   top5_acc: 100%|██████████| 15/15 [00:03<00:00,  3.89it/s]\n",
            "                   all       0.42      0.817\n",
            "\n",
            "      Epoch    GPU_mem       loss  Instances       Size\n",
            "       8/70      3.28G     0.4986          3        224: 100%|██████████| 703/703 [03:15<00:00,  3.59it/s]\n",
            "               classes   top1_acc   top5_acc: 100%|██████████| 15/15 [00:03<00:00,  3.79it/s]\n",
            "                   all      0.444      0.852\n",
            "\n",
            "      Epoch    GPU_mem       loss  Instances       Size\n",
            "       9/70      3.28G     0.4655          3        224: 100%|██████████| 703/703 [03:15<00:00,  3.59it/s]\n",
            "               classes   top1_acc   top5_acc: 100%|██████████| 15/15 [00:04<00:00,  3.40it/s]\n",
            "                   all      0.494      0.869\n",
            "\n",
            "      Epoch    GPU_mem       loss  Instances       Size\n",
            "      10/70      3.28G     0.4408          3        224: 100%|██████████| 703/703 [03:15<00:00,  3.59it/s]\n",
            "               classes   top1_acc   top5_acc: 100%|██████████| 15/15 [00:03<00:00,  3.91it/s]\n",
            "                   all      0.497       0.87\n",
            "\n",
            "      Epoch    GPU_mem       loss  Instances       Size\n",
            "      11/70      3.28G     0.4194          3        224: 100%|██████████| 703/703 [03:15<00:00,  3.59it/s]\n",
            "               classes   top1_acc   top5_acc: 100%|██████████| 15/15 [00:03<00:00,  3.82it/s]\n",
            "                   all      0.549      0.878\n",
            "\n",
            "      Epoch    GPU_mem       loss  Instances       Size\n",
            "      12/70      3.28G      0.394          3        224: 100%|██████████| 703/703 [03:15<00:00,  3.59it/s]\n",
            "               classes   top1_acc   top5_acc: 100%|██████████| 15/15 [00:04<00:00,  3.21it/s]\n",
            "                   all      0.551      0.882\n",
            "\n",
            "      Epoch    GPU_mem       loss  Instances       Size\n",
            "      13/70      3.28G       0.38          3        224: 100%|██████████| 703/703 [03:16<00:00,  3.58it/s]\n",
            "               classes   top1_acc   top5_acc: 100%|██████████| 15/15 [00:03<00:00,  3.89it/s]\n",
            "                   all      0.572      0.889\n",
            "\n",
            "      Epoch    GPU_mem       loss  Instances       Size\n",
            "      14/70      3.28G     0.3614          3        224: 100%|██████████| 703/703 [03:16<00:00,  3.58it/s]\n",
            "               classes   top1_acc   top5_acc: 100%|██████████| 15/15 [00:03<00:00,  3.93it/s]\n",
            "                   all      0.571      0.907\n",
            "\n",
            "      Epoch    GPU_mem       loss  Instances       Size\n",
            "      15/70      3.28G     0.3479          3        224: 100%|██████████| 703/703 [03:16<00:00,  3.58it/s]\n",
            "               classes   top1_acc   top5_acc: 100%|██████████| 15/15 [00:03<00:00,  3.94it/s]\n",
            "                   all      0.571      0.903\n",
            "\n",
            "      Epoch    GPU_mem       loss  Instances       Size\n",
            "      16/70      3.28G     0.3294          3        224: 100%|██████████| 703/703 [03:15<00:00,  3.59it/s]\n",
            "               classes   top1_acc   top5_acc: 100%|██████████| 15/15 [00:03<00:00,  3.87it/s]\n",
            "                   all      0.592       0.92\n",
            "\n",
            "      Epoch    GPU_mem       loss  Instances       Size\n",
            "      17/70      3.28G     0.3176          3        224: 100%|██████████| 703/703 [03:15<00:00,  3.59it/s]\n",
            "               classes   top1_acc   top5_acc: 100%|██████████| 15/15 [00:03<00:00,  3.95it/s]\n",
            "                   all      0.633      0.922\n",
            "\n",
            "      Epoch    GPU_mem       loss  Instances       Size\n",
            "      18/70      3.28G     0.3045          3        224: 100%|██████████| 703/703 [03:16<00:00,  3.58it/s]\n",
            "               classes   top1_acc   top5_acc: 100%|██████████| 15/15 [00:04<00:00,  3.04it/s]\n",
            "                   all      0.608      0.936\n",
            "\n",
            "      Epoch    GPU_mem       loss  Instances       Size\n",
            "      19/70      3.28G     0.2923          3        224: 100%|██████████| 703/703 [03:15<00:00,  3.59it/s]\n",
            "               classes   top1_acc   top5_acc: 100%|██████████| 15/15 [00:03<00:00,  3.88it/s]\n",
            "                   all      0.647      0.944\n",
            "\n",
            "      Epoch    GPU_mem       loss  Instances       Size\n",
            "      20/70      3.28G     0.2805          3        224: 100%|██████████| 703/703 [03:16<00:00,  3.59it/s]\n",
            "               classes   top1_acc   top5_acc: 100%|██████████| 15/15 [00:03<00:00,  3.78it/s]\n",
            "                   all      0.622      0.937\n",
            "\n",
            "      Epoch    GPU_mem       loss  Instances       Size\n",
            "      21/70      3.28G     0.2631          3        224: 100%|██████████| 703/703 [03:16<00:00,  3.58it/s]\n",
            "               classes   top1_acc   top5_acc: 100%|██████████| 15/15 [00:03<00:00,  3.85it/s]\n",
            "                   all      0.649      0.942\n",
            "\n",
            "      Epoch    GPU_mem       loss  Instances       Size\n",
            "      22/70      3.28G     0.2636          3        224: 100%|██████████| 703/703 [03:16<00:00,  3.58it/s]\n",
            "               classes   top1_acc   top5_acc: 100%|██████████| 15/15 [00:03<00:00,  3.87it/s]\n",
            "                   all      0.666      0.939\n",
            "\n",
            "      Epoch    GPU_mem       loss  Instances       Size\n",
            "      23/70      3.28G      0.256          3        224: 100%|██████████| 703/703 [03:15<00:00,  3.59it/s]\n",
            "               classes   top1_acc   top5_acc: 100%|██████████| 15/15 [00:03<00:00,  3.90it/s]\n",
            "                   all      0.643      0.945\n",
            "\n",
            "      Epoch    GPU_mem       loss  Instances       Size\n",
            "      24/70      3.28G     0.2414          3        224: 100%|██████████| 703/703 [03:16<00:00,  3.58it/s]\n",
            "               classes   top1_acc   top5_acc: 100%|██████████| 15/15 [00:04<00:00,  3.74it/s]\n",
            "                   all      0.682      0.941\n",
            "\n",
            "      Epoch    GPU_mem       loss  Instances       Size\n",
            "      25/70      3.28G     0.2369          3        224: 100%|██████████| 703/703 [03:16<00:00,  3.58it/s]\n",
            "               classes   top1_acc   top5_acc: 100%|██████████| 15/15 [00:03<00:00,  3.89it/s]\n",
            "                   all      0.682      0.945\n",
            "\n",
            "      Epoch    GPU_mem       loss  Instances       Size\n",
            "      26/70      3.28G     0.2297          3        224: 100%|██████████| 703/703 [03:16<00:00,  3.58it/s]\n",
            "               classes   top1_acc   top5_acc: 100%|██████████| 15/15 [00:05<00:00,  2.80it/s]\n",
            "                   all       0.67      0.938\n",
            "\n",
            "      Epoch    GPU_mem       loss  Instances       Size\n",
            "      27/70      3.28G     0.2241          3        224: 100%|██████████| 703/703 [03:16<00:00,  3.58it/s]\n",
            "               classes   top1_acc   top5_acc: 100%|██████████| 15/15 [00:04<00:00,  3.34it/s]\n",
            "                   all      0.676      0.953\n",
            "\n",
            "      Epoch    GPU_mem       loss  Instances       Size\n",
            "      28/70      3.28G     0.2081          3        224: 100%|██████████| 703/703 [03:16<00:00,  3.58it/s]\n",
            "               classes   top1_acc   top5_acc: 100%|██████████| 15/15 [00:05<00:00,  2.90it/s]\n",
            "                   all      0.686      0.943\n",
            "\n",
            "      Epoch    GPU_mem       loss  Instances       Size\n",
            "      29/70      3.28G     0.2029          3        224: 100%|██████████| 703/703 [03:16<00:00,  3.58it/s]\n",
            "               classes   top1_acc   top5_acc: 100%|██████████| 15/15 [00:03<00:00,  3.96it/s]\n",
            "                   all      0.687      0.944\n",
            "\n",
            "      Epoch    GPU_mem       loss  Instances       Size\n",
            "      30/70      3.28G     0.2043          3        224: 100%|██████████| 703/703 [03:16<00:00,  3.58it/s]\n",
            "               classes   top1_acc   top5_acc: 100%|██████████| 15/15 [00:05<00:00,  2.64it/s]\n",
            "                   all      0.703      0.941\n",
            "\n",
            "      Epoch    GPU_mem       loss  Instances       Size\n",
            "      31/70      3.28G     0.1901          3        224: 100%|██████████| 703/703 [03:16<00:00,  3.58it/s]\n",
            "               classes   top1_acc   top5_acc: 100%|██████████| 15/15 [00:03<00:00,  3.80it/s]\n",
            "                   all      0.703      0.958\n",
            "\n",
            "      Epoch    GPU_mem       loss  Instances       Size\n",
            "      32/70      3.28G     0.1928          3        224: 100%|██████████| 703/703 [03:16<00:00,  3.58it/s]\n",
            "               classes   top1_acc   top5_acc: 100%|██████████| 15/15 [00:04<00:00,  3.60it/s]\n",
            "                   all      0.696      0.943\n",
            "\n",
            "      Epoch    GPU_mem       loss  Instances       Size\n",
            "      33/70      3.28G     0.1811          3        224: 100%|██████████| 703/703 [03:16<00:00,  3.58it/s]\n",
            "               classes   top1_acc   top5_acc: 100%|██████████| 15/15 [00:03<00:00,  3.81it/s]\n",
            "                   all      0.717       0.95\n",
            "\n",
            "      Epoch    GPU_mem       loss  Instances       Size\n",
            "      34/70      3.28G     0.1739          3        224: 100%|██████████| 703/703 [03:16<00:00,  3.58it/s]\n",
            "               classes   top1_acc   top5_acc: 100%|██████████| 15/15 [00:04<00:00,  3.68it/s]\n",
            "                   all      0.718      0.957\n",
            "\n",
            "      Epoch    GPU_mem       loss  Instances       Size\n",
            "      35/70      3.28G     0.1706          3        224: 100%|██████████| 703/703 [03:16<00:00,  3.57it/s]\n",
            "               classes   top1_acc   top5_acc: 100%|██████████| 15/15 [00:04<00:00,  3.27it/s]\n",
            "                   all      0.721      0.965\n",
            "\n",
            "      Epoch    GPU_mem       loss  Instances       Size\n",
            "      36/70      3.28G     0.1668          3        224: 100%|██████████| 703/703 [03:16<00:00,  3.58it/s]\n",
            "               classes   top1_acc   top5_acc: 100%|██████████| 15/15 [00:03<00:00,  3.84it/s]\n",
            "                   all      0.722      0.951\n",
            "\n",
            "      Epoch    GPU_mem       loss  Instances       Size\n",
            "      37/70      3.28G     0.1638          3        224: 100%|██████████| 703/703 [03:16<00:00,  3.57it/s]\n",
            "               classes   top1_acc   top5_acc: 100%|██████████| 15/15 [00:05<00:00,  2.97it/s]\n",
            "                   all      0.723      0.955\n",
            "\n",
            "      Epoch    GPU_mem       loss  Instances       Size\n",
            "      38/70      3.28G      0.163          3        224: 100%|██████████| 703/703 [03:15<00:00,  3.59it/s]\n",
            "               classes   top1_acc   top5_acc: 100%|██████████| 15/15 [00:04<00:00,  3.04it/s]\n",
            "                   all      0.724      0.958\n",
            "\n",
            "      Epoch    GPU_mem       loss  Instances       Size\n",
            "      39/70      3.28G     0.1503          3        224: 100%|██████████| 703/703 [03:15<00:00,  3.59it/s]\n",
            "               classes   top1_acc   top5_acc: 100%|██████████| 15/15 [00:03<00:00,  3.80it/s]\n",
            "                   all       0.73      0.955\n",
            "\n",
            "      Epoch    GPU_mem       loss  Instances       Size\n",
            "      40/70      3.28G     0.1508          3        224: 100%|██████████| 703/703 [03:15<00:00,  3.59it/s]\n",
            "               classes   top1_acc   top5_acc: 100%|██████████| 15/15 [00:03<00:00,  3.90it/s]\n",
            "                   all      0.712      0.956\n",
            "\n",
            "      Epoch    GPU_mem       loss  Instances       Size\n",
            "      41/70      3.28G      0.146          3        224: 100%|██████████| 703/703 [03:15<00:00,  3.59it/s]\n",
            "               classes   top1_acc   top5_acc: 100%|██████████| 15/15 [00:04<00:00,  3.58it/s]\n",
            "                   all      0.731      0.961\n",
            "\n",
            "      Epoch    GPU_mem       loss  Instances       Size\n",
            "      42/70      3.28G     0.1428          3        224: 100%|██████████| 703/703 [03:16<00:00,  3.58it/s]\n",
            "               classes   top1_acc   top5_acc: 100%|██████████| 15/15 [00:03<00:00,  3.80it/s]\n",
            "                   all      0.721      0.966\n",
            "\n",
            "      Epoch    GPU_mem       loss  Instances       Size\n",
            "      43/70      3.28G     0.1378          3        224: 100%|██████████| 703/703 [03:16<00:00,  3.58it/s]\n",
            "               classes   top1_acc   top5_acc: 100%|██████████| 15/15 [00:04<00:00,  3.67it/s]\n",
            "                   all      0.727      0.963\n",
            "\n",
            "      Epoch    GPU_mem       loss  Instances       Size\n",
            "      44/70      3.28G      0.133          3        224: 100%|██████████| 703/703 [03:16<00:00,  3.58it/s]\n",
            "               classes   top1_acc   top5_acc: 100%|██████████| 15/15 [00:04<00:00,  3.66it/s]\n",
            "                   all      0.722      0.955\n",
            "\n",
            "      Epoch    GPU_mem       loss  Instances       Size\n",
            "      45/70      3.28G     0.1314          3        224: 100%|██████████| 703/703 [03:16<00:00,  3.58it/s]\n",
            "               classes   top1_acc   top5_acc: 100%|██████████| 15/15 [00:03<00:00,  3.82it/s]\n",
            "                   all      0.707      0.955\n",
            "\n",
            "      Epoch    GPU_mem       loss  Instances       Size\n",
            "      46/70      3.28G     0.1222          3        224: 100%|██████████| 703/703 [03:16<00:00,  3.58it/s]\n",
            "               classes   top1_acc   top5_acc: 100%|██████████| 15/15 [00:03<00:00,  3.77it/s]\n",
            "                   all      0.724      0.956\n",
            "\n",
            "      Epoch    GPU_mem       loss  Instances       Size\n",
            "      47/70      3.28G       0.12          3        224: 100%|██████████| 703/703 [03:16<00:00,  3.58it/s]\n",
            "               classes   top1_acc   top5_acc: 100%|██████████| 15/15 [00:03<00:00,  3.81it/s]\n",
            "                   all      0.733      0.956\n",
            "\n",
            "      Epoch    GPU_mem       loss  Instances       Size\n",
            "      48/70      3.28G     0.1123          3        224: 100%|██████████| 703/703 [03:16<00:00,  3.58it/s]\n",
            "               classes   top1_acc   top5_acc: 100%|██████████| 15/15 [00:03<00:00,  3.81it/s]\n",
            "                   all      0.739      0.957\n",
            "\n",
            "      Epoch    GPU_mem       loss  Instances       Size\n",
            "      49/70      3.28G     0.1142          3        224: 100%|██████████| 703/703 [03:15<00:00,  3.59it/s]\n",
            "               classes   top1_acc   top5_acc: 100%|██████████| 15/15 [00:03<00:00,  3.90it/s]\n",
            "                   all      0.727      0.955\n",
            "\n",
            "      Epoch    GPU_mem       loss  Instances       Size\n",
            "      50/70      3.28G     0.1077          3        224: 100%|██████████| 703/703 [03:15<00:00,  3.60it/s]\n",
            "               classes   top1_acc   top5_acc: 100%|██████████| 15/15 [00:04<00:00,  3.50it/s]\n",
            "                   all      0.731      0.953\n",
            "\n",
            "      Epoch    GPU_mem       loss  Instances       Size\n",
            "      51/70      3.28G     0.1079          3        224: 100%|██████████| 703/703 [03:16<00:00,  3.58it/s]\n",
            "               classes   top1_acc   top5_acc: 100%|██████████| 15/15 [00:04<00:00,  3.67it/s]\n",
            "                   all      0.729       0.95\n",
            "\n",
            "      Epoch    GPU_mem       loss  Instances       Size\n",
            "      52/70      3.28G     0.1014          3        224: 100%|██████████| 703/703 [03:16<00:00,  3.58it/s]\n",
            "               classes   top1_acc   top5_acc: 100%|██████████| 15/15 [00:03<00:00,  3.87it/s]\n",
            "                   all      0.731      0.948\n",
            "\n",
            "      Epoch    GPU_mem       loss  Instances       Size\n",
            "      53/70      3.28G    0.09971          3        224: 100%|██████████| 703/703 [03:16<00:00,  3.58it/s]\n",
            "               classes   top1_acc   top5_acc: 100%|██████████| 15/15 [00:04<00:00,  3.60it/s]\n",
            "                   all      0.736      0.951\n",
            "\n",
            "      Epoch    GPU_mem       loss  Instances       Size\n",
            "      54/70      3.28G    0.09828          3        224: 100%|██████████| 703/703 [03:16<00:00,  3.58it/s]\n",
            "               classes   top1_acc   top5_acc: 100%|██████████| 15/15 [00:03<00:00,  3.80it/s]\n",
            "                   all      0.742      0.944\n",
            "\n",
            "      Epoch    GPU_mem       loss  Instances       Size\n",
            "      55/70      3.28G     0.0957          3        224: 100%|██████████| 703/703 [03:16<00:00,  3.58it/s]\n",
            "               classes   top1_acc   top5_acc: 100%|██████████| 15/15 [00:03<00:00,  3.86it/s]\n",
            "                   all      0.743       0.95\n",
            "\n",
            "      Epoch    GPU_mem       loss  Instances       Size\n",
            "      56/70      3.28G    0.09022          3        224: 100%|██████████| 703/703 [03:16<00:00,  3.58it/s]\n",
            "               classes   top1_acc   top5_acc: 100%|██████████| 15/15 [00:04<00:00,  3.47it/s]\n",
            "                   all      0.739      0.955\n",
            "\n",
            "      Epoch    GPU_mem       loss  Instances       Size\n",
            "      57/70      3.28G    0.09121          3        224: 100%|██████████| 703/703 [03:16<00:00,  3.59it/s]\n",
            "               classes   top1_acc   top5_acc: 100%|██████████| 15/15 [00:04<00:00,  3.72it/s]\n",
            "                   all      0.729      0.954\n",
            "\n",
            "      Epoch    GPU_mem       loss  Instances       Size\n",
            "      58/70      3.28G     0.0855          3        224: 100%|██████████| 703/703 [03:15<00:00,  3.60it/s]\n",
            "               classes   top1_acc   top5_acc: 100%|██████████| 15/15 [00:04<00:00,  3.03it/s]\n",
            "                   all      0.725      0.957\n",
            "\n",
            "      Epoch    GPU_mem       loss  Instances       Size\n",
            "      59/70      3.28G    0.08181          3        224: 100%|██████████| 703/703 [03:16<00:00,  3.58it/s]\n",
            "               classes   top1_acc   top5_acc: 100%|██████████| 15/15 [00:05<00:00,  2.82it/s]\n",
            "                   all      0.732      0.957\n",
            "\n",
            "      Epoch    GPU_mem       loss  Instances       Size\n",
            "      60/70      3.28G    0.08008          3        224: 100%|██████████| 703/703 [03:16<00:00,  3.58it/s]\n",
            "               classes   top1_acc   top5_acc: 100%|██████████| 15/15 [00:04<00:00,  3.08it/s]\n",
            "                   all      0.736      0.955\n",
            "Closing dataloader mosaic\n",
            "\n",
            "      Epoch    GPU_mem       loss  Instances       Size\n",
            "      61/70      3.28G    0.08219          3        224: 100%|██████████| 703/703 [03:16<00:00,  3.59it/s]\n",
            "               classes   top1_acc   top5_acc: 100%|██████████| 15/15 [00:03<00:00,  3.90it/s]\n",
            "                   all      0.734       0.96\n",
            "\n",
            "      Epoch    GPU_mem       loss  Instances       Size\n",
            "      62/70      3.28G    0.07475          3        224: 100%|██████████| 703/703 [03:16<00:00,  3.58it/s]\n",
            "               classes   top1_acc   top5_acc: 100%|██████████| 15/15 [00:03<00:00,  3.85it/s]\n",
            "                   all      0.736      0.956\n",
            "Stopping training early as no improvement observed in last 20 epochs. Best results observed at epoch 42, best model saved as best.pt.\n",
            "To update EarlyStopping(patience=20) pass a new patience value, i.e. `patience=300` or use `patience=0` to disable EarlyStopping.\n",
            "\n",
            "62 epochs completed in 3.560 hours.\n",
            "Optimizer stripped from runs/classify/train/weights/last.pt, 112.6MB\n",
            "Optimizer stripped from runs/classify/train/weights/best.pt, 112.6MB\n",
            "Results saved to \u001b[1mruns/classify/train\u001b[0m\n"
          ]
        }
      ]
    },
    {
      "cell_type": "markdown",
      "source": [
        "# Download Model File"
      ],
      "metadata": {
        "id": "Xd4GudiNUTnm"
      }
    },
    {
      "cell_type": "code",
      "source": [
        "from google.colab import files\n",
        "path = \"/content/runs/classify/train/weights/best.pt\"\n",
        "files.download(path)"
      ],
      "metadata": {
        "id": "znFDemi4SOr7",
        "colab": {
          "base_uri": "https://localhost:8080/",
          "height": 17
        },
        "outputId": "82cec3ad-6ef8-4cfd-f4e9-0ff9c5fd783d"
      },
      "execution_count": null,
      "outputs": [
        {
          "output_type": "display_data",
          "data": {
            "text/plain": [
              "<IPython.core.display.Javascript object>"
            ],
            "application/javascript": [
              "\n",
              "    async function download(id, filename, size) {\n",
              "      if (!google.colab.kernel.accessAllowed) {\n",
              "        return;\n",
              "      }\n",
              "      const div = document.createElement('div');\n",
              "      const label = document.createElement('label');\n",
              "      label.textContent = `Downloading \"${filename}\": `;\n",
              "      div.appendChild(label);\n",
              "      const progress = document.createElement('progress');\n",
              "      progress.max = size;\n",
              "      div.appendChild(progress);\n",
              "      document.body.appendChild(div);\n",
              "\n",
              "      const buffers = [];\n",
              "      let downloaded = 0;\n",
              "\n",
              "      const channel = await google.colab.kernel.comms.open(id);\n",
              "      // Send a message to notify the kernel that we're ready.\n",
              "      channel.send({})\n",
              "\n",
              "      for await (const message of channel.messages) {\n",
              "        // Send a message to notify the kernel that we're ready.\n",
              "        channel.send({})\n",
              "        if (message.buffers) {\n",
              "          for (const buffer of message.buffers) {\n",
              "            buffers.push(buffer);\n",
              "            downloaded += buffer.byteLength;\n",
              "            progress.value = downloaded;\n",
              "          }\n",
              "        }\n",
              "      }\n",
              "      const blob = new Blob(buffers, {type: 'application/binary'});\n",
              "      const a = document.createElement('a');\n",
              "      a.href = window.URL.createObjectURL(blob);\n",
              "      a.download = filename;\n",
              "      div.appendChild(a);\n",
              "      a.click();\n",
              "      div.remove();\n",
              "    }\n",
              "  "
            ]
          },
          "metadata": {}
        },
        {
          "output_type": "display_data",
          "data": {
            "text/plain": [
              "<IPython.core.display.Javascript object>"
            ],
            "application/javascript": [
              "download(\"download_e7cf7450-7228-4e7d-9bb3-d86d10402086\", \"best.pt\", 112616123)"
            ]
          },
          "metadata": {}
        }
      ]
    },
    {
      "cell_type": "code",
      "source": [
        "from IPython.display import display, Image\n",
        "from IPython import display\n",
        "display.clear_output()"
      ],
      "metadata": {
        "id": "SrhcTwZGKfdy"
      },
      "execution_count": null,
      "outputs": []
    },
    {
      "cell_type": "code",
      "source": [
        "import pandas as pd\n",
        "df = pd.read_csv(\"/content/runs/classify/train2/results.csv\")\n",
        "df.head()"
      ],
      "metadata": {
        "id": "_1jKjmk5MIhj"
      },
      "execution_count": null,
      "outputs": []
    },
    {
      "cell_type": "code",
      "source": [
        "!yolo task=classify mode=val model='/content/runs/classify/train2/weights/best.pt' data='/content/FYP-2' plots=True"
      ],
      "metadata": {
        "id": "lmWtrWPHMIe0"
      },
      "execution_count": null,
      "outputs": []
    },
    {
      "cell_type": "code",
      "source": [
        "%load_ext tensorboard\n",
        "%tensorboard --logdir /content/runs/classify"
      ],
      "metadata": {
        "id": "KkKwszcVMIcM"
      },
      "execution_count": null,
      "outputs": []
    },
    {
      "cell_type": "code",
      "source": [
        "!yolo task=classify mode=predict model='/content/runs/classify/train2/weights/best.pt' conf=1 source='/content/ginger3.jpeg'"
      ],
      "metadata": {
        "id": "vG1M2hdUM44A"
      },
      "execution_count": null,
      "outputs": []
    },
    {
      "cell_type": "code",
      "source": [
        "project.version(2).deploy(model_type='yolov8x-cls', model_path= '/content/runs/classify/train2')"
      ],
      "metadata": {
        "id": "l5zojk6WM4zd"
      },
      "execution_count": null,
      "outputs": []
    },
    {
      "cell_type": "code",
      "source": [
        "project.version('2').deploy(model_type='yolov8x-cls', model_path= '/content/runs/classify/train2')"
      ],
      "metadata": {
        "id": "PlniSxjqFLMn"
      },
      "execution_count": null,
      "outputs": []
    },
    {
      "cell_type": "code",
      "source": [
        "import shutil\n",
        "import os\n",
        "\n",
        "# Specify the directory you want to download\n",
        "colab_directory = '/content/runs/classify/train2'  # Change this to the path of the directory in your Colab environment\n",
        "\n",
        "# Specify the name of the ZIP file you want to create\n",
        "zip_filename = 'final_version.zip'\n",
        "\n",
        "# Create a ZIP file of the specified directory\n",
        "shutil.make_archive(zip_filename, 'zip', colab_directory)\n",
        "\n",
        "# Move the ZIP file to the content folder so that it can be downloaded\n",
        "os.rename(zip_filename + '.zip', '/content/' + zip_filename)\n",
        "\n",
        "# Optionally, you can move the ZIP file to Google Drive to download it easily\n",
        "# First, you need to mount Google Drive in Colab\n",
        "# from google.colab import drive\n",
        "# drive.mount('/content/gdrive')\n",
        "\n",
        "# Move the ZIP file to Google Drive\n",
        "# shutil.move(zip_filename + '.zip', '/content/gdrive/My Drive/' + zip_filename)\n",
        "\n",
        "# Print a message indicating the download link\n",
        "print(f'Download the ZIP file from this link: /content/{zip_filename}')"
      ],
      "metadata": {
        "id": "79e6jiJjNJhJ"
      },
      "execution_count": null,
      "outputs": []
    },
    {
      "cell_type": "code",
      "source": [
        "!yolo task=classify mode=predict model='/content/runs/classify/train2/weights/best.pt' conf=1 source='/content/all-purpose flour.jpg'"
      ],
      "metadata": {
        "id": "Q_4r6F2aHsgI"
      },
      "execution_count": null,
      "outputs": []
    },
    {
      "cell_type": "code",
      "source": [
        "!yolo task=classify mode=predict model='/content/runs/classify/train2/weights/best.pt' conf=1 source='/content/baking soda.jpg'\n"
      ],
      "metadata": {
        "id": "Lrxm1ukIHt44"
      },
      "execution_count": null,
      "outputs": []
    },
    {
      "cell_type": "code",
      "source": [
        "!yolo task=classify mode=predict model='/content/runs/classify/train2/weights/best.pt' conf=1 source='/content/bay leaves.png'\n"
      ],
      "metadata": {
        "id": "DPB4YuYWHt2p"
      },
      "execution_count": null,
      "outputs": []
    },
    {
      "cell_type": "code",
      "source": [
        "!yolo task=classify mode=predict model='/content/runs/classify/train2/weights/best.pt' conf=1 source='/content/capsicum.jpg'\n"
      ],
      "metadata": {
        "id": "J2_1yo-PHtzK"
      },
      "execution_count": null,
      "outputs": []
    },
    {
      "cell_type": "code",
      "source": [
        "!yolo task=classify mode=predict model='/content/runs/classify/train2/weights/best.pt' conf=1 source='/content/chili pepper.jpeg'\n"
      ],
      "metadata": {
        "id": "CQ7ZDYWhHtv8"
      },
      "execution_count": null,
      "outputs": []
    },
    {
      "cell_type": "code",
      "source": [
        "!yolo task=classify mode=predict model='/content/runs/classify/train2/weights/best.pt' conf=1 source='/content/fresh basil.jpg'\n"
      ],
      "metadata": {
        "id": "TljP6LkHHttN"
      },
      "execution_count": null,
      "outputs": []
    },
    {
      "cell_type": "code",
      "source": [
        "!yolo task=classify mode=predict model='/content/runs/classify/train2/weights/best.pt' conf=1 source='/content/garam masala.jpeg'\n"
      ],
      "metadata": {
        "id": "mzc4M5FMHtqs"
      },
      "execution_count": null,
      "outputs": []
    },
    {
      "cell_type": "code",
      "source": [
        "!yolo task=classify mode=predict model='/content/runs/classify/train2/weights/best.pt' conf=1 source='/content/garlic powder.jpg'\n"
      ],
      "metadata": {
        "id": "ykYzjI_-Htn1"
      },
      "execution_count": null,
      "outputs": []
    },
    {
      "cell_type": "code",
      "source": [
        "!yolo task=classify mode=predict model='/content/runs/classify/train2/weights/best.pt' conf=1 source='/content/ginger.jpg'\n"
      ],
      "metadata": {
        "id": "wERyb8JgHtkx"
      },
      "execution_count": null,
      "outputs": []
    },
    {
      "cell_type": "code",
      "source": [
        "!yolo task=classify mode=predict model='/content/runs/classify/train2/weights/best.pt' conf=1 source='/content/grated parmesan cheese.jpg'\n"
      ],
      "metadata": {
        "id": "2oHx4wauHtee"
      },
      "execution_count": null,
      "outputs": []
    },
    {
      "cell_type": "code",
      "source": [
        "!yolo task=classify mode=predict model='/content/runs/classify/train2/weights/best.pt' conf=1 source='/content/ground cinnamon.jpg'\n"
      ],
      "metadata": {
        "id": "K56xNTKfIqD_"
      },
      "execution_count": null,
      "outputs": []
    },
    {
      "cell_type": "code",
      "source": [
        "!yolo task=classify mode=predict model='/content/runs/classify/train2/weights/best.pt' conf=1 source='/content/honey.jpg'\n"
      ],
      "metadata": {
        "id": "biYmRm5hIrTf"
      },
      "execution_count": null,
      "outputs": []
    },
    {
      "cell_type": "code",
      "source": [
        "!yolo task=classify mode=predict model='/content/runs/classify/train2/weights/best.pt' conf=1 source='/content/potato.jpg'\n"
      ],
      "metadata": {
        "id": "PnuNkUbxIrQK"
      },
      "execution_count": null,
      "outputs": []
    },
    {
      "cell_type": "code",
      "source": [
        "!yolo task=classify mode=predict model='/content/runs/classify/train2/weights/best.pt' conf=1 source='/content/salt.jpg'\n"
      ],
      "metadata": {
        "id": "ryAR9nfCI6Lu"
      },
      "execution_count": null,
      "outputs": []
    },
    {
      "cell_type": "code",
      "source": [
        "!yolo task=classify mode=predict model='/content/runs/classify/train2/weights/best.pt' conf=1 source='/content/sugar.jpg'\n"
      ],
      "metadata": {
        "id": "WtcZ8dBwJIqW"
      },
      "execution_count": null,
      "outputs": []
    },
    {
      "cell_type": "code",
      "source": [
        "!yolo task=classify mode=predict model='/content/runs/classify/train2/weights/best.pt' conf=1 source='/content/sugar2.jpeg'\n"
      ],
      "metadata": {
        "id": "ezb__0N-JIlt"
      },
      "execution_count": null,
      "outputs": []
    }
  ]
}